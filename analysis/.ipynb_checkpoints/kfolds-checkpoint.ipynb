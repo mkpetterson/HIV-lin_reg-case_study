{
 "cells": [
  {
   "cell_type": "code",
   "execution_count": 15,
   "metadata": {},
   "outputs": [],
   "source": [
    "from sklearn.neighbors import KNeighborsRegressor\n",
    "from sklearn.model_selection import KFold\n",
    "from sklearn.model_selection import train_test_split\n",
    "from sklearn.model_selection import cross_val_score\n",
    "from sklearn.linear_model import LinearRegression\n",
    "import numpy as np\n",
    "from sklearn.metrics import mean_squared_error\n",
    "import pandas as pd\n",
    "import matplotlib.pyplot as plt\n",
    "%matplotlib inline\n",
    "df = pd.read_csv('data/hiv_data.csv') "
   ]
  },
  {
   "cell_type": "code",
   "execution_count": 6,
   "metadata": {},
   "outputs": [],
   "source": [
    "def my_rmse(y_true, y_pred):\n",
    "    mse = ((y_true - y_pred)**2).mean()\n",
    "    return np.sqrt(mse)"
   ]
  },
  {
   "cell_type": "code",
   "execution_count": 4,
   "metadata": {},
   "outputs": [
    {
     "data": {
      "text/plain": [
       "Index(['Unnamed: 0', 'county_code', 'COUNTY', 'STATEABBREVIATION', 'YEAR',\n",
       "       'AMAT_fac', 'HIVdiagnoses', 'HIVincidence', 'HIVprevalence', 'MH_fac',\n",
       "       'Med_AMAT_fac', 'Med_MH_fac', 'Med_SA_fac', 'Med_SMAT_fac',\n",
       "       'Med_TMAT_fac', 'PLHIV', 'Population', 'SA_fac', 'SMAT_fac', 'TMAT_fac',\n",
       "       'drugdeathrate', 'drugdeathrate_est', 'drugdeaths', 'mme_percap',\n",
       "       'partD30dayrxrate', 'pctunins', 'num_SSPs', 'bup_phys', 'drugdep',\n",
       "       'pctunmetneed', 'nonmedpain', 'ADULTMEN', 'MSM12MTH', 'MSM5YEAR',\n",
       "       '%msm12month', '%msm5yr', 'unemployment_rate', 'poverty_rate',\n",
       "       'household_income'],\n",
       "      dtype='object')"
      ]
     },
     "execution_count": 4,
     "metadata": {},
     "output_type": "execute_result"
    }
   ],
   "source": [
    "df.columns"
   ]
  },
  {
   "cell_type": "code",
   "execution_count": 5,
   "metadata": {},
   "outputs": [],
   "source": [
    "def my_cross_val_score(X_data, y_data, num_folds=3):\n",
    "    ''' Returns error for k-fold cross validation. '''\n",
    "    kf = KFold(n_splits=num_folds)\n",
    "    error = np.empty(num_folds)\n",
    "    index = 0\n",
    "    reg = KNeighborsRegressor()\n",
    "    for train, test in kf.split(X_data):\n",
    "        reg.fit(X_data[train], y_data[train])\n",
    "        pred = reg.predict(X_data[test])\n",
    "        error[index] = my_rmse(pred, y_data[test])\n",
    "        index += 1\n",
    "    return np.mean(error)"
   ]
  },
  {
   "cell_type": "code",
   "execution_count": 31,
   "metadata": {},
   "outputs": [
    {
     "data": {
      "text/plain": [
       "array([ 0.24147481,  0.0654112 ,  0.33191576, -0.24550662,  0.34654878,\n",
       "        0.2195701 , -0.40349674,  0.25763793])"
      ]
     },
     "execution_count": 31,
     "metadata": {},
     "output_type": "execute_result"
    }
   ],
   "source": [
    "#ready to pass in data make decision\n",
    "new_df = df[['HIVincidence', 'HIVprevalence', 'county_code', 'AMAT_fac', 'MH_fac', 'SA_fac', 'SMAT_fac', \n",
    "                  'TMAT_fac', 'drugdeathrate', 'mme_percap', 'pctunins', 'num_SSPs', 'drugdep', \n",
    "                  'pctunmetneed', 'MSM12MTH', '%msm12month', 'poverty_rate', 'household_income']]\n",
    "\n",
    "y = new_df['HIVincidence'].values\n",
    "X = new_df[['HIVprevalence', 'poverty_rate', 'household_income']].values\n",
    "\n",
    "X_train, X_test, y_train, y_test  = train_test_split(X, y)\n",
    "\n",
    "\n",
    "cross_val_score(KNeighborsRegressor(), X, y, cv=8)\n",
    "\n",
    "\n"
   ]
  },
  {
   "cell_type": "code",
   "execution_count": null,
   "metadata": {},
   "outputs": [],
   "source": []
  }
 ],
 "metadata": {
  "file_extension": ".py",
  "kernelspec": {
   "display_name": "Python 3",
   "language": "python",
   "name": "python3"
  },
  "language_info": {
   "codemirror_mode": {
    "name": "ipython",
    "version": 3
   },
   "file_extension": ".py",
   "mimetype": "text/x-python",
   "name": "python",
   "nbconvert_exporter": "python",
   "pygments_lexer": "ipython3",
   "version": "3.7.6"
  },
  "mimetype": "text/x-python",
  "name": "python",
  "npconvert_exporter": "python",
  "pygments_lexer": "ipython3",
  "version": 3
 },
 "nbformat": 4,
 "nbformat_minor": 4
}
